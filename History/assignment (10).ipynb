{
 "cells": [
  {
   "cell_type": "code",
   "execution_count": null,
   "id": "personal-naples",
   "metadata": {
    "_cell_guid": "b1076dfc-b9ad-4769-8c92-a6c4dae69d19",
    "_uuid": "8f2839f25d086af736a60e9eeb907d3b93b6e0e5",
    "execution": {
     "iopub.execute_input": "2021-05-20T21:13:16.678399Z",
     "iopub.status.busy": "2021-05-20T21:13:16.678005Z",
     "iopub.status.idle": "2021-05-20T21:13:22.540934Z",
     "shell.execute_reply": "2021-05-20T21:13:22.540226Z",
     "shell.execute_reply.started": "2021-05-20T21:13:16.678303Z"
    },
    "papermill": {
     "duration": null,
     "end_time": null,
     "exception": false,
     "start_time": "2021-05-20T22:04:35.376009",
     "status": "running"
    },
    "tags": []
   },
   "outputs": [],
   "source": [
    "import numpy as np # linear algebra\n",
    "import pandas as pd # data processing, CSV file I/O (e.g. pd.read_csv)\n",
    "\n",
    "import os, os.path\n",
    "\n",
    "from keras.applications import ResNet101\n",
    "\n",
    "\n",
    "import matplotlib.pyplot as plt\n",
    "\n",
    "#image preprocessing libraries\n",
    "import skimage\n",
    "from skimage import io\n",
    "from skimage.color import rgb2gray\n",
    "from skimage.transform import resize\n"
   ]
  },
  {
   "cell_type": "code",
   "execution_count": null,
   "id": "practical-property",
   "metadata": {
    "execution": {
     "iopub.execute_input": "2021-05-20T21:13:27.744201Z",
     "iopub.status.busy": "2021-05-20T21:13:27.743725Z",
     "iopub.status.idle": "2021-05-20T21:13:28.713181Z",
     "shell.execute_reply": "2021-05-20T21:13:28.712259Z",
     "shell.execute_reply.started": "2021-05-20T21:13:27.744171Z"
    },
    "papermill": {
     "duration": null,
     "end_time": null,
     "exception": null,
     "start_time": null,
     "status": "pending"
    },
    "tags": []
   },
   "outputs": [],
   "source": [
    "#path leading to training images\n",
    "training_path = '../input/siim-isic-melanoma-classification/jpeg/train/' \n",
    "#generate a list of image names\n",
    "training_image_names = [name for name in os.listdir(training_path)]\n",
    "\n",
    "#testing the image loading and preporcessing\n",
    "test_image = io.imread(training_path+training_image_names[2])\n",
    "test_image = resize(test_image, (512, 512))\n",
    "test_image = rgb2gray(test_image)\n",
    "\n",
    "plt.imshow(test_image, cmap=plt.cm.gray)\n",
    "test_image.shape\n"
   ]
  },
  {
   "cell_type": "code",
   "execution_count": null,
   "id": "according-stock",
   "metadata": {
    "execution": {
     "iopub.execute_input": "2021-05-20T21:13:30.936580Z",
     "iopub.status.busy": "2021-05-20T21:13:30.935871Z",
     "iopub.status.idle": "2021-05-20T21:13:31.039486Z",
     "shell.execute_reply": "2021-05-20T21:13:31.038745Z",
     "shell.execute_reply.started": "2021-05-20T21:13:30.936527Z"
    },
    "papermill": {
     "duration": null,
     "end_time": null,
     "exception": null,
     "start_time": null,
     "status": "pending"
    },
    "tags": []
   },
   "outputs": [],
   "source": [
    "#load training csv\n",
    "training_labels = pd.read_csv('../input/siim-isic-melanoma-classification/train.csv', sep=',')\n",
    "\n",
    "#the train.csv holds more information than we need, thus we extract only the needed columns\n",
    "training_labels = training_labels[['image_name', 'target']]\n",
    "\n",
    "# the targets are: 0 = benign, 1 = malignant\n",
    "#training labels that have a target of 0\n",
    "training_labels_0 = pd.DataFrame(training_labels.loc[training_labels['target'] == 0])\n",
    "#training labels that have a target of 1 \n",
    "training_labels_1 = pd.DataFrame(training_labels.loc[training_labels['target'] == 1])\n",
    " \n",
    "#in advance turn both pandas dataframes to numpy arrays, as we need to reshape their values later (a numpy function)\n",
    "#and because the resnet model only accepts numpy arrays as inputs\n",
    "training_labels_0 = np.asarray(training_labels_0)\n",
    "training_labels_1 = np.asarray(training_labels_1)\n",
    "\n",
    "#the structures of both numpy arrays are as follows:\n",
    "#training_labels_# [index of the image][0 = name of the image, 1 = the target]\n",
    "\n",
    "print(\"labels with a target of 0:\",len(training_labels_0))\n",
    "print(\"labels with a target of 1:\",len(training_labels_1))"
   ]
  },
  {
   "cell_type": "code",
   "execution_count": null,
   "id": "manufactured-knight",
   "metadata": {
    "execution": {
     "iopub.execute_input": "2021-05-20T21:13:34.355278Z",
     "iopub.status.busy": "2021-05-20T21:13:34.354925Z",
     "iopub.status.idle": "2021-05-20T22:03:26.492081Z",
     "shell.execute_reply": "2021-05-20T22:03:26.490736Z",
     "shell.execute_reply.started": "2021-05-20T21:13:34.355251Z"
    },
    "papermill": {
     "duration": null,
     "end_time": null,
     "exception": null,
     "start_time": null,
     "status": "pending"
    },
    "tags": []
   },
   "outputs": [],
   "source": [
    "#random data size\n",
    "data_size = 1500\n",
    "\n",
    "#prepare numpy arrays, where the loaded images and labels will be stored\n",
    "training_images = np.zeros((data_size, 512, 512, 1))\n",
    "training_labels = np.zeros((data_size))\n",
    "\n",
    "#first store the images, with a target of 1\n",
    "for i in range(0, len(training_labels_1)):\n",
    "    #load an image\n",
    "    image = io.imread(training_path+training_labels_1[i][0]+'.jpg')\n",
    "    #resizing...\n",
    "    image = resize(image, (512,512))\n",
    "    #making the image grayscale...\n",
    "    image = rgb2gray(image)\n",
    "    #normalising the values...\n",
    "    image /= 255\n",
    "    #reshaping, because the model expects an input shape of (x,y,z)\n",
    "    image = np.reshape(image, (512,512,1))\n",
    "    \n",
    "    #storing the image\n",
    "    training_images[i] = image\n",
    "    #storing the target label\n",
    "    training_labels[i] = training_labels_1[i][1]\n",
    "    if(i%200==0):\n",
    "        #simple way of informing about the progress\n",
    "        print(i, training_labels_1[i][0], \"uploaded\")\n",
    "        \n",
    "#same exact steps are applied to images, with a target of 0\n",
    "for i in range(len(training_labels_1), data_size):\n",
    "    image = io.imread(training_path+training_labels_0[i][0]+'.jpg')\n",
    "    image = resize(image, (512,512))\n",
    "    image = rgb2gray(image)\n",
    "    image /= 255\n",
    "    image = np.reshape(image, (512,512,1))\n",
    "    \n",
    "    training_images[i] = image\n",
    "    training_labels[i] = training_labels_0[i][1]\n",
    "    if(i%200==0):\n",
    "        print(i ,training_labels_0[i][0], \"uploaded\")\n",
    "    "
   ]
  },
  {
   "cell_type": "code",
   "execution_count": null,
   "id": "nuclear-semester",
   "metadata": {
    "execution": {
     "iopub.execute_input": "2021-05-20T22:03:26.496934Z",
     "iopub.status.busy": "2021-05-20T22:03:26.496396Z",
     "iopub.status.idle": "2021-05-20T22:03:29.869150Z",
     "shell.execute_reply": "2021-05-20T22:03:29.868367Z",
     "shell.execute_reply.started": "2021-05-20T22:03:26.496878Z"
    },
    "papermill": {
     "duration": null,
     "end_time": null,
     "exception": null,
     "start_time": null,
     "status": "pending"
    },
    "tags": []
   },
   "outputs": [],
   "source": [
    "print(training_images.shape)\n",
    "print(training_labels.shape)\n",
    "from sklearn.model_selection import train_test_split\n",
    "#split the data into training and testing\n",
    "x_train, x_test, y_train, y_test = train_test_split(training_images, training_labels, train_size=0.8, random_state=42)\n",
    "\n",
    "print(x_train.shape)\n",
    "print(x_test.shape)"
   ]
  },
  {
   "cell_type": "code",
   "execution_count": null,
   "id": "bigger-comparative",
   "metadata": {
    "execution": {
     "iopub.execute_input": "2021-05-20T22:03:42.069425Z",
     "iopub.status.busy": "2021-05-20T22:03:42.069103Z",
     "iopub.status.idle": "2021-05-20T22:03:42.075478Z",
     "shell.execute_reply": "2021-05-20T22:03:42.074450Z",
     "shell.execute_reply.started": "2021-05-20T22:03:42.069396Z"
    },
    "papermill": {
     "duration": null,
     "end_time": null,
     "exception": null,
     "start_time": null,
     "status": "pending"
    },
    "tags": []
   },
   "outputs": [],
   "source": [
    "training_labels[np.where(training_labels==0)].shape"
   ]
  },
  {
   "cell_type": "code",
   "execution_count": null,
   "id": "assumed-washer",
   "metadata": {
    "execution": {
     "iopub.execute_input": "2021-05-20T18:11:42.470981Z",
     "iopub.status.busy": "2021-05-20T18:11:42.47067Z",
     "iopub.status.idle": "2021-05-20T18:11:45.174642Z",
     "shell.execute_reply": "2021-05-20T18:11:45.173662Z",
     "shell.execute_reply.started": "2021-05-20T18:11:42.470954Z"
    },
    "papermill": {
     "duration": null,
     "end_time": null,
     "exception": null,
     "start_time": null,
     "status": "pending"
    },
    "tags": []
   },
   "outputs": [],
   "source": [
    "#The resnet model. For some reason the amount of classes in our database is 1\n",
    "#No weights, because imagenet is not useful for our purpose and i'm not aware of other weights we can use\n",
    "#The input shape follows the shape of the images\n",
    "#Sigmoid, because our classes range from 0 and 1 and it's recommended for binary categorization\n",
    "model = ResNet101(classes=1, weights=None, input_shape=(512,512,1), classifier_activation='sigmoid')\n",
    "\n",
    "#Binary crossentropy because our classes range from 0 and 1\n",
    "model.compile(loss='binary_crossentropy', optimizer='adam', metrics=['Accuracy',\n",
    "                                                                     'Precision',\n",
    "                                                                     'Recall'\n",
    "                                                                    ])"
   ]
  },
  {
   "cell_type": "code",
   "execution_count": null,
   "id": "absent-villa",
   "metadata": {
    "execution": {
     "iopub.execute_input": "2021-05-20T18:11:45.176657Z",
     "iopub.status.busy": "2021-05-20T18:11:45.176232Z"
    },
    "papermill": {
     "duration": null,
     "end_time": null,
     "exception": null,
     "start_time": null,
     "status": "pending"
    },
    "tags": []
   },
   "outputs": [],
   "source": [
    "#batch_size of 8 for no particular reason. Batch size of 16 caused an error, internet said it's because batch size is too big\n",
    "#10 epochs, because the model is very deep and takes a very long time to train\n",
    "model.fit(x_train,y_train, batch_size=8, epochs=10, validation_data=(x_test,y_test))"
   ]
  },
  {
   "cell_type": "code",
   "execution_count": null,
   "id": "handy-climate",
   "metadata": {
    "papermill": {
     "duration": null,
     "end_time": null,
     "exception": null,
     "start_time": null,
     "status": "pending"
    },
    "tags": []
   },
   "outputs": [],
   "source": [
    "#Use this to load all of the images\n",
    "data_size = 100\n",
    "training_images = np.zeros((data_size,512,512,1))\n",
    "for index, imageName in enumerate(training_image_names[0:data_size]):\n",
    "    image = io.imread(trainingPath+imageName)\n",
    "    image = resize(image, (512, 512))\n",
    "    image = rgb2gray(image)\n",
    "    image /= 255\n",
    "    image = np.reshape(image, (512,512,1))\n",
    "    training_images[index] = image\n",
    "    if(index % (data_size//4) == 0):\n",
    "        print(index, imageName, \"inserted\")\n",
    "\n",
    "        \n",
    "training_labels = pd.read_csv('../input/siim-isic-melanoma-classification/train.csv', sep=',')\n",
    "# 0 = benign, 1 = malignant\n",
    "training_labels = np.asarray(training_labels['target'])\n"
   ]
  },
  {
   "cell_type": "code",
   "execution_count": null,
   "id": "innovative-cradle",
   "metadata": {
    "papermill": {
     "duration": null,
     "end_time": null,
     "exception": null,
     "start_time": null,
     "status": "pending"
    },
    "tags": []
   },
   "outputs": [],
   "source": []
  }
 ],
 "metadata": {
  "kernelspec": {
   "display_name": "Python 3",
   "language": "python",
   "name": "python3"
  },
  "language_info": {
   "codemirror_mode": {
    "name": "ipython",
    "version": 3
   },
   "file_extension": ".py",
   "mimetype": "text/x-python",
   "name": "python",
   "nbconvert_exporter": "python",
   "pygments_lexer": "ipython3",
   "version": "3.6.4"
  },
  "papermill": {
   "default_parameters": {},
   "duration": null,
   "end_time": null,
   "environment_variables": {},
   "exception": null,
   "input_path": "__notebook__.ipynb",
   "output_path": "__notebook__.ipynb",
   "parameters": {},
   "start_time": "2021-05-20T22:04:29.035798",
   "version": "2.3.2"
  }
 },
 "nbformat": 4,
 "nbformat_minor": 5
}