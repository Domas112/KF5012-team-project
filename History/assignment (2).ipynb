{
 "cells": [
  {
   "cell_type": "code",
   "execution_count": null,
   "id": "applied-evans",
   "metadata": {
    "_cell_guid": "b1076dfc-b9ad-4769-8c92-a6c4dae69d19",
    "_uuid": "8f2839f25d086af736a60e9eeb907d3b93b6e0e5",
    "papermill": {
     "duration": null,
     "end_time": null,
     "exception": false,
     "start_time": "2021-04-29T17:42:29.032082",
     "status": "running"
    },
    "tags": []
   },
   "outputs": [],
   "source": [
    "import numpy as np # linear algebra\n",
    "import pandas as pd # data processing, CSV file I/O (e.g. pd.read_csv)\n",
    "\n",
    "import os, os.path\n",
    "\n",
    "from keras.applications import ResNet152\n",
    "\n",
    "\n",
    "import matplotlib.pyplot as plt\n",
    "\n",
    "#image preprocessing libraries\n",
    "import skimage\n",
    "from skimage import io\n",
    "from skimage.color import rgb2gray\n",
    "from skimage.transform import resize\n"
   ]
  },
  {
   "cell_type": "code",
   "execution_count": null,
   "id": "anticipated-drilling",
   "metadata": {
    "papermill": {
     "duration": null,
     "end_time": null,
     "exception": null,
     "start_time": null,
     "status": "pending"
    },
    "tags": []
   },
   "outputs": [],
   "source": [
    "#path leading to training images\n",
    "training_path = '../input/siim-isic-melanoma-classification/jpeg/train/' \n",
    "#generate a list of image names\n",
    "training_image_names = [name for name in os.listdir(training_path)]\n",
    "\n",
    "#testing the image loading and preporcessing\n",
    "test_image = io.imread(training_path+training_image_names[2])\n",
    "test_image = resize(test_image, (512, 512))\n",
    "test_image = rgb2gray(test_image)\n",
    "\n",
    "plt.imshow(test_image, cmap=plt.cm.gray)\n",
    "test_image.shape\n"
   ]
  },
  {
   "cell_type": "code",
   "execution_count": null,
   "id": "pharmaceutical-chapter",
   "metadata": {
    "papermill": {
     "duration": null,
     "end_time": null,
     "exception": null,
     "start_time": null,
     "status": "pending"
    },
    "tags": []
   },
   "outputs": [],
   "source": [
    "#load training csv\n",
    "training_labels = pd.read_csv('../input/siim-isic-melanoma-classification/train.csv', sep=',')\n",
    "\n",
    "#the train.csv holds more information than we need, thus we extract only the needed columns\n",
    "training_labels = training_labels[['image_name', 'target']]\n",
    "\n",
    "# the targets are: 0 = benign, 1 = malignant\n",
    "#training labels that have a target of 0\n",
    "training_labels_0 = pd.DataFrame(training_labels.loc[training_labels['target'] == 0])\n",
    "#training labels that have a target of 1 \n",
    "training_labels_1 = pd.DataFrame(training_labels.loc[training_labels['target'] == 1])\n",
    " \n",
    "#in advance turn both pandas dataframes to numpy arrays, as we need to reshape their values later (a numpy function)\n",
    "#and because the resnet model only accepts numpy arrays as inputs\n",
    "training_labels_0 = np.asarray(training_labels_0)\n",
    "training_labels_1 = np.asarray(training_labels_1)\n",
    "\n",
    "#the structures of both numpy arrays are as follows:\n",
    "#training_labels_# [index of the image][0 = name of the image, 1 = the target]\n",
    "\n",
    "print(\"labels with a target of 0:\",len(training_labels_0))\n",
    "print(\"labels with a target of 1:\",len(training_labels_1))"
   ]
  },
  {
   "cell_type": "code",
   "execution_count": null,
   "id": "iraqi-stranger",
   "metadata": {
    "papermill": {
     "duration": null,
     "end_time": null,
     "exception": null,
     "start_time": null,
     "status": "pending"
    },
    "tags": []
   },
   "outputs": [],
   "source": [
    "#random data size\n",
    "data_size = 2000\n",
    "\n",
    "#prepare numpy arrays, where the loaded images and labels will be stored\n",
    "training_images = np.zeros((data_size, 512, 512, 1))\n",
    "training_labels = np.zeros((data_size))\n",
    "\n",
    "#first store the images, with a target of 1\n",
    "for i in range(0, len(training_labels_1)):\n",
    "    #load an image\n",
    "    image = io.imread(training_path+training_labels_1[i][0]+'.jpg')\n",
    "    #resizing...\n",
    "    image = resize(image, (512,512))\n",
    "    #making the image grayscale...\n",
    "    image = rgb2gray(image)\n",
    "    #normalising the values...\n",
    "    image /= 255\n",
    "    #reshaping, because the model expects an input shape of (x,y,z)\n",
    "    image = np.reshape(image, (512,512,1))\n",
    "    \n",
    "    #storing the image\n",
    "    training_images[i] = image\n",
    "    #storing the target label\n",
    "    training_labels[i] = training_labels_1[i][1]\n",
    "    if(i%200==0):\n",
    "        #simple way of informing about the progress\n",
    "        print(i, training_labels_1[i][0], \"uploaded\")\n",
    "        \n",
    "#same exact steps are applied to images, with a target of 0\n",
    "for i in range(len(training_labels_1), data_size):\n",
    "    image = io.imread(training_path+training_labels_0[i][0]+'.jpg')\n",
    "    image = resize(image, (512,512))\n",
    "    image = rgb2gray(image)\n",
    "    image /= 255\n",
    "    image = np.reshape(image, (512,512,1))\n",
    "    \n",
    "    training_images[i] = image\n",
    "    training_labels[i] = training_labels_0[i][1]\n",
    "    if(i%200==0):\n",
    "        print(i ,training_labels_0[i][0], \"uploaded\")\n",
    "    "
   ]
  },
  {
   "cell_type": "code",
   "execution_count": null,
   "id": "successful-puppy",
   "metadata": {
    "papermill": {
     "duration": null,
     "end_time": null,
     "exception": null,
     "start_time": null,
     "status": "pending"
    },
    "tags": []
   },
   "outputs": [],
   "source": [
    "print(training_images.shape)\n",
    "print(training_labels.shape)\n",
    "from sklearn.model_selection import train_test_split\n",
    "#split the data into training and testing\n",
    "x_train, x_test, y_train, y_test = train_test_split(training_images, training_labels, train_size=0.8, random_state=42)\n",
    "\n",
    "print(x_train.shape)\n",
    "print(x_test.shape)"
   ]
  },
  {
   "cell_type": "code",
   "execution_count": null,
   "id": "golden-alias",
   "metadata": {
    "papermill": {
     "duration": null,
     "end_time": null,
     "exception": null,
     "start_time": null,
     "status": "pending"
    },
    "tags": []
   },
   "outputs": [],
   "source": [
    "training_labels[np.where(training_labels==0)].shape"
   ]
  },
  {
   "cell_type": "code",
   "execution_count": null,
   "id": "boxed-attraction",
   "metadata": {
    "papermill": {
     "duration": null,
     "end_time": null,
     "exception": null,
     "start_time": null,
     "status": "pending"
    },
    "tags": []
   },
   "outputs": [],
   "source": [
    "#The resnet model. For some reason the amount of classes in our database is 1\n",
    "#No weights, because imagenet is not useful for our purpose and i'm not aware of other weights we can use\n",
    "#The input shape follows the shape of the images\n",
    "#Sigmoid, because our classes range from 0 and 1 and it's recommended for binary categorization\n",
    "model = ResNet152(classes=1, weights=None, input_shape=(512,512,1), classifier_activation='sigmoid')\n",
    "\n",
    "#Binary crossentropy because our classes range from 0 and 1\n",
    "model.compile(loss='binary_crossentropy', optimizer='adam', metrics=['accuracy'])"
   ]
  },
  {
   "cell_type": "code",
   "execution_count": null,
   "id": "ready-approach",
   "metadata": {
    "papermill": {
     "duration": null,
     "end_time": null,
     "exception": null,
     "start_time": null,
     "status": "pending"
    },
    "tags": []
   },
   "outputs": [],
   "source": [
    "#batch_size of 8 for no particular reason. Batch size of 16 caused an error, internet said it's because batch size is too big\n",
    "#10 epochs, because the model is very deep and takes a very long time to train\n",
    "model.fit(x_train,y_train, batch_size=8, epochs=10, validation_data=(x_test,y_test))"
   ]
  },
  {
   "cell_type": "code",
   "execution_count": null,
   "id": "congressional-minnesota",
   "metadata": {
    "papermill": {
     "duration": null,
     "end_time": null,
     "exception": null,
     "start_time": null,
     "status": "pending"
    },
    "tags": []
   },
   "outputs": [],
   "source": [
    "#Use this to load all of the images\n",
    "data_size = 100\n",
    "training_images = np.zeros((data_size,512,512,1))\n",
    "for index, imageName in enumerate(training_image_names[0:data_size]):\n",
    "    image = io.imread(trainingPath+imageName)\n",
    "    image = resize(image, (512, 512))\n",
    "    image = rgb2gray(image)\n",
    "    image /= 255\n",
    "    image = np.reshape(image, (512,512,1))\n",
    "    training_images[index] = image\n",
    "    if(index % (data_size//4) == 0):\n",
    "        print(index, imageName, \"inserted\")\n",
    "\n",
    "        \n",
    "training_labels = pd.read_csv('../input/siim-isic-melanoma-classification/train.csv', sep=',')\n",
    "# 0 = benign, 1 = malignant\n",
    "training_labels = np.asarray(training_labels['target'])\n"
   ]
  },
  {
   "cell_type": "code",
   "execution_count": null,
   "id": "incorporate-kitty",
   "metadata": {
    "papermill": {
     "duration": null,
     "end_time": null,
     "exception": null,
     "start_time": null,
     "status": "pending"
    },
    "tags": []
   },
   "outputs": [],
   "source": []
  }
 ],
 "metadata": {
  "kernelspec": {
   "display_name": "Python 3",
   "language": "python",
   "name": "python3"
  },
  "language_info": {
   "codemirror_mode": {
    "name": "ipython",
    "version": 3
   },
   "file_extension": ".py",
   "mimetype": "text/x-python",
   "name": "python",
   "nbconvert_exporter": "python",
   "pygments_lexer": "ipython3",
   "version": "3.6.4"
  },
  "papermill": {
   "default_parameters": {},
   "duration": null,
   "end_time": null,
   "environment_variables": {},
   "exception": null,
   "input_path": "__notebook__.ipynb",
   "output_path": "__notebook__.ipynb",
   "parameters": {},
   "start_time": "2021-04-29T17:42:21.811614",
   "version": "2.3.2"
  }
 },
 "nbformat": 4,
 "nbformat_minor": 5
}