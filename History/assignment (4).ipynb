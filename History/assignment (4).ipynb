{
 "cells": [
  {
   "cell_type": "code",
   "execution_count": 1,
   "id": "ecological-binary",
   "metadata": {
    "_cell_guid": "b1076dfc-b9ad-4769-8c92-a6c4dae69d19",
    "_uuid": "8f2839f25d086af736a60e9eeb907d3b93b6e0e5",
    "execution": {
     "iopub.execute_input": "2021-05-02T11:11:03.010998Z",
     "iopub.status.busy": "2021-05-02T11:11:03.010329Z",
     "iopub.status.idle": "2021-05-02T11:11:08.727341Z",
     "shell.execute_reply": "2021-05-02T11:11:08.726740Z"
    },
    "papermill": {
     "duration": 5.731156,
     "end_time": "2021-05-02T11:11:08.727538",
     "exception": false,
     "start_time": "2021-05-02T11:11:02.996382",
     "status": "completed"
    },
    "tags": []
   },
   "outputs": [
    {
     "ename": "ImportError",
     "evalue": "cannot import name 'ResNet100' from 'keras.applications' (/opt/conda/lib/python3.7/site-packages/keras/applications/__init__.py)",
     "output_type": "error",
     "traceback": [
      "\u001b[0;31m---------------------------------------------------------------------------\u001b[0m",
      "\u001b[0;31mImportError\u001b[0m                               Traceback (most recent call last)",
      "\u001b[0;32m<ipython-input-1-2cc8a5eef94f>\u001b[0m in \u001b[0;36m<module>\u001b[0;34m\u001b[0m\n\u001b[1;32m      4\u001b[0m \u001b[0;32mimport\u001b[0m \u001b[0mos\u001b[0m\u001b[0;34m,\u001b[0m \u001b[0mos\u001b[0m\u001b[0;34m.\u001b[0m\u001b[0mpath\u001b[0m\u001b[0;34m\u001b[0m\u001b[0;34m\u001b[0m\u001b[0m\n\u001b[1;32m      5\u001b[0m \u001b[0;34m\u001b[0m\u001b[0m\n\u001b[0;32m----> 6\u001b[0;31m \u001b[0;32mfrom\u001b[0m \u001b[0mkeras\u001b[0m\u001b[0;34m.\u001b[0m\u001b[0mapplications\u001b[0m \u001b[0;32mimport\u001b[0m \u001b[0mResNet100\u001b[0m\u001b[0;34m\u001b[0m\u001b[0;34m\u001b[0m\u001b[0m\n\u001b[0m\u001b[1;32m      7\u001b[0m \u001b[0;34m\u001b[0m\u001b[0m\n\u001b[1;32m      8\u001b[0m \u001b[0;34m\u001b[0m\u001b[0m\n",
      "\u001b[0;31mImportError\u001b[0m: cannot import name 'ResNet100' from 'keras.applications' (/opt/conda/lib/python3.7/site-packages/keras/applications/__init__.py)"
     ]
    }
   ],
   "source": [
    "import numpy as np # linear algebra\n",
    "import pandas as pd # data processing, CSV file I/O (e.g. pd.read_csv)\n",
    "\n",
    "import os, os.path\n",
    "\n",
    "from keras.applications import ResNet100\n",
    "\n",
    "\n",
    "import matplotlib.pyplot as plt\n",
    "\n",
    "#image preprocessing libraries\n",
    "import skimage\n",
    "from skimage import io\n",
    "from skimage.color import rgb2gray\n",
    "from skimage.transform import resize\n"
   ]
  },
  {
   "cell_type": "code",
   "execution_count": 2,
   "id": "distributed-intro",
   "metadata": {
    "execution": {
     "iopub.execute_input": "2021-05-02T11:11:08.748115Z",
     "iopub.status.busy": "2021-05-02T11:11:08.747505Z",
     "iopub.status.idle": "2021-05-02T11:11:09.480885Z",
     "shell.execute_reply": "2021-05-02T11:11:09.480445Z"
    },
    "papermill": {
     "duration": 0.745423,
     "end_time": "2021-05-02T11:11:09.481015",
     "exception": false,
     "start_time": "2021-05-02T11:11:08.735592",
     "status": "completed"
    },
    "tags": []
   },
   "outputs": [
    {
     "ename": "NameError",
     "evalue": "name 'io' is not defined",
     "output_type": "error",
     "traceback": [
      "\u001b[0;31m---------------------------------------------------------------------------\u001b[0m",
      "\u001b[0;31mNameError\u001b[0m                                 Traceback (most recent call last)",
      "\u001b[0;32m<ipython-input-2-1d6a59419710>\u001b[0m in \u001b[0;36m<module>\u001b[0;34m\u001b[0m\n\u001b[1;32m      5\u001b[0m \u001b[0;34m\u001b[0m\u001b[0m\n\u001b[1;32m      6\u001b[0m \u001b[0;31m#testing the image loading and preporcessing\u001b[0m\u001b[0;34m\u001b[0m\u001b[0;34m\u001b[0m\u001b[0;34m\u001b[0m\u001b[0m\n\u001b[0;32m----> 7\u001b[0;31m \u001b[0mtest_image\u001b[0m \u001b[0;34m=\u001b[0m \u001b[0mio\u001b[0m\u001b[0;34m.\u001b[0m\u001b[0mimread\u001b[0m\u001b[0;34m(\u001b[0m\u001b[0mtraining_path\u001b[0m\u001b[0;34m+\u001b[0m\u001b[0mtraining_image_names\u001b[0m\u001b[0;34m[\u001b[0m\u001b[0;36m2\u001b[0m\u001b[0;34m]\u001b[0m\u001b[0;34m)\u001b[0m\u001b[0;34m\u001b[0m\u001b[0;34m\u001b[0m\u001b[0m\n\u001b[0m\u001b[1;32m      8\u001b[0m \u001b[0mtest_image\u001b[0m \u001b[0;34m=\u001b[0m \u001b[0mresize\u001b[0m\u001b[0;34m(\u001b[0m\u001b[0mtest_image\u001b[0m\u001b[0;34m,\u001b[0m \u001b[0;34m(\u001b[0m\u001b[0;36m512\u001b[0m\u001b[0;34m,\u001b[0m \u001b[0;36m512\u001b[0m\u001b[0;34m)\u001b[0m\u001b[0;34m)\u001b[0m\u001b[0;34m\u001b[0m\u001b[0;34m\u001b[0m\u001b[0m\n\u001b[1;32m      9\u001b[0m \u001b[0mtest_image\u001b[0m \u001b[0;34m=\u001b[0m \u001b[0mrgb2gray\u001b[0m\u001b[0;34m(\u001b[0m\u001b[0mtest_image\u001b[0m\u001b[0;34m)\u001b[0m\u001b[0;34m\u001b[0m\u001b[0;34m\u001b[0m\u001b[0m\n",
      "\u001b[0;31mNameError\u001b[0m: name 'io' is not defined"
     ]
    }
   ],
   "source": [
    "#path leading to training images\n",
    "training_path = '../input/siim-isic-melanoma-classification/jpeg/train/' \n",
    "#generate a list of image names\n",
    "training_image_names = [name for name in os.listdir(training_path)]\n",
    "\n",
    "#testing the image loading and preporcessing\n",
    "test_image = io.imread(training_path+training_image_names[2])\n",
    "test_image = resize(test_image, (512, 512))\n",
    "test_image = rgb2gray(test_image)\n",
    "\n",
    "plt.imshow(test_image, cmap=plt.cm.gray)\n",
    "test_image.shape\n"
   ]
  },
  {
   "cell_type": "code",
   "execution_count": 3,
   "id": "crazy-passion",
   "metadata": {
    "execution": {
     "iopub.execute_input": "2021-05-02T11:11:09.503394Z",
     "iopub.status.busy": "2021-05-02T11:11:09.502829Z",
     "iopub.status.idle": "2021-05-02T11:11:09.615764Z",
     "shell.execute_reply": "2021-05-02T11:11:09.617060Z"
    },
    "papermill": {
     "duration": 0.128631,
     "end_time": "2021-05-02T11:11:09.617266",
     "exception": false,
     "start_time": "2021-05-02T11:11:09.488635",
     "status": "completed"
    },
    "tags": []
   },
   "outputs": [
    {
     "name": "stdout",
     "output_type": "stream",
     "text": [
      "labels with a target of 0: 32542\n",
      "labels with a target of 1: 584\n"
     ]
    }
   ],
   "source": [
    "#load training csv\n",
    "training_labels = pd.read_csv('../input/siim-isic-melanoma-classification/train.csv', sep=',')\n",
    "\n",
    "#the train.csv holds more information than we need, thus we extract only the needed columns\n",
    "training_labels = training_labels[['image_name', 'target']]\n",
    "\n",
    "# the targets are: 0 = benign, 1 = malignant\n",
    "#training labels that have a target of 0\n",
    "training_labels_0 = pd.DataFrame(training_labels.loc[training_labels['target'] == 0])\n",
    "#training labels that have a target of 1 \n",
    "training_labels_1 = pd.DataFrame(training_labels.loc[training_labels['target'] == 1])\n",
    " \n",
    "#in advance turn both pandas dataframes to numpy arrays, as we need to reshape their values later (a numpy function)\n",
    "#and because the resnet model only accepts numpy arrays as inputs\n",
    "training_labels_0 = np.asarray(training_labels_0)\n",
    "training_labels_1 = np.asarray(training_labels_1)\n",
    "\n",
    "#the structures of both numpy arrays are as follows:\n",
    "#training_labels_# [index of the image][0 = name of the image, 1 = the target]\n",
    "\n",
    "print(\"labels with a target of 0:\",len(training_labels_0))\n",
    "print(\"labels with a target of 1:\",len(training_labels_1))"
   ]
  },
  {
   "cell_type": "code",
   "execution_count": 4,
   "id": "starting-correction",
   "metadata": {
    "execution": {
     "iopub.execute_input": "2021-05-02T11:11:09.650522Z",
     "iopub.status.busy": "2021-05-02T11:11:09.641099Z",
     "iopub.status.idle": "2021-05-02T11:11:09.663409Z",
     "shell.execute_reply": "2021-05-02T11:11:09.662948Z"
    },
    "papermill": {
     "duration": 0.037934,
     "end_time": "2021-05-02T11:11:09.663525",
     "exception": false,
     "start_time": "2021-05-02T11:11:09.625591",
     "status": "completed"
    },
    "tags": []
   },
   "outputs": [
    {
     "ename": "NameError",
     "evalue": "name 'io' is not defined",
     "output_type": "error",
     "traceback": [
      "\u001b[0;31m---------------------------------------------------------------------------\u001b[0m",
      "\u001b[0;31mNameError\u001b[0m                                 Traceback (most recent call last)",
      "\u001b[0;32m<ipython-input-4-db039fa3b4f5>\u001b[0m in \u001b[0;36m<module>\u001b[0;34m\u001b[0m\n\u001b[1;32m      9\u001b[0m \u001b[0;32mfor\u001b[0m \u001b[0mi\u001b[0m \u001b[0;32min\u001b[0m \u001b[0mrange\u001b[0m\u001b[0;34m(\u001b[0m\u001b[0;36m0\u001b[0m\u001b[0;34m,\u001b[0m \u001b[0mlen\u001b[0m\u001b[0;34m(\u001b[0m\u001b[0mtraining_labels_1\u001b[0m\u001b[0;34m)\u001b[0m\u001b[0;34m)\u001b[0m\u001b[0;34m:\u001b[0m\u001b[0;34m\u001b[0m\u001b[0;34m\u001b[0m\u001b[0m\n\u001b[1;32m     10\u001b[0m     \u001b[0;31m#load an image\u001b[0m\u001b[0;34m\u001b[0m\u001b[0;34m\u001b[0m\u001b[0;34m\u001b[0m\u001b[0m\n\u001b[0;32m---> 11\u001b[0;31m     \u001b[0mimage\u001b[0m \u001b[0;34m=\u001b[0m \u001b[0mio\u001b[0m\u001b[0;34m.\u001b[0m\u001b[0mimread\u001b[0m\u001b[0;34m(\u001b[0m\u001b[0mtraining_path\u001b[0m\u001b[0;34m+\u001b[0m\u001b[0mtraining_labels_1\u001b[0m\u001b[0;34m[\u001b[0m\u001b[0mi\u001b[0m\u001b[0;34m]\u001b[0m\u001b[0;34m[\u001b[0m\u001b[0;36m0\u001b[0m\u001b[0;34m]\u001b[0m\u001b[0;34m+\u001b[0m\u001b[0;34m'.jpg'\u001b[0m\u001b[0;34m)\u001b[0m\u001b[0;34m\u001b[0m\u001b[0;34m\u001b[0m\u001b[0m\n\u001b[0m\u001b[1;32m     12\u001b[0m     \u001b[0;31m#resizing...\u001b[0m\u001b[0;34m\u001b[0m\u001b[0;34m\u001b[0m\u001b[0;34m\u001b[0m\u001b[0m\n\u001b[1;32m     13\u001b[0m     \u001b[0mimage\u001b[0m \u001b[0;34m=\u001b[0m \u001b[0mresize\u001b[0m\u001b[0;34m(\u001b[0m\u001b[0mimage\u001b[0m\u001b[0;34m,\u001b[0m \u001b[0;34m(\u001b[0m\u001b[0;36m512\u001b[0m\u001b[0;34m,\u001b[0m\u001b[0;36m512\u001b[0m\u001b[0;34m)\u001b[0m\u001b[0;34m)\u001b[0m\u001b[0;34m\u001b[0m\u001b[0;34m\u001b[0m\u001b[0m\n",
      "\u001b[0;31mNameError\u001b[0m: name 'io' is not defined"
     ]
    }
   ],
   "source": [
    "#random data size\n",
    "data_size = 2000\n",
    "\n",
    "#prepare numpy arrays, where the loaded images and labels will be stored\n",
    "training_images = np.zeros((data_size, 512, 512, 1))\n",
    "training_labels = np.zeros((data_size))\n",
    "\n",
    "#first store the images, with a target of 1\n",
    "for i in range(0, len(training_labels_1)):\n",
    "    #load an image\n",
    "    image = io.imread(training_path+training_labels_1[i][0]+'.jpg')\n",
    "    #resizing...\n",
    "    image = resize(image, (512,512))\n",
    "    #making the image grayscale...\n",
    "    image = rgb2gray(image)\n",
    "    #normalising the values...\n",
    "    image /= 255\n",
    "    #reshaping, because the model expects an input shape of (x,y,z)\n",
    "    image = np.reshape(image, (512,512,1))\n",
    "    \n",
    "    #storing the image\n",
    "    training_images[i] = image\n",
    "    #storing the target label\n",
    "    training_labels[i] = training_labels_1[i][1]\n",
    "    if(i%200==0):\n",
    "        #simple way of informing about the progress\n",
    "        print(i, training_labels_1[i][0], \"uploaded\")\n",
    "        \n",
    "#same exact steps are applied to images, with a target of 0\n",
    "for i in range(len(training_labels_1), data_size):\n",
    "    image = io.imread(training_path+training_labels_0[i][0]+'.jpg')\n",
    "    image = resize(image, (512,512))\n",
    "    image = rgb2gray(image)\n",
    "    image /= 255\n",
    "    image = np.reshape(image, (512,512,1))\n",
    "    \n",
    "    training_images[i] = image\n",
    "    training_labels[i] = training_labels_0[i][1]\n",
    "    if(i%200==0):\n",
    "        print(i ,training_labels_0[i][0], \"uploaded\")\n",
    "    "
   ]
  },
  {
   "cell_type": "code",
   "execution_count": 5,
   "id": "subtle-apartment",
   "metadata": {
    "execution": {
     "iopub.execute_input": "2021-05-02T11:11:09.687902Z",
     "iopub.status.busy": "2021-05-02T11:11:09.687209Z",
     "iopub.status.idle": "2021-05-02T11:11:12.414181Z",
     "shell.execute_reply": "2021-05-02T11:11:12.414820Z"
    },
    "papermill": {
     "duration": 2.742936,
     "end_time": "2021-05-02T11:11:12.415016",
     "exception": false,
     "start_time": "2021-05-02T11:11:09.672080",
     "status": "completed"
    },
    "tags": []
   },
   "outputs": [
    {
     "name": "stdout",
     "output_type": "stream",
     "text": [
      "(2000, 512, 512, 1)\n",
      "(2000,)\n",
      "(1600, 512, 512, 1)\n",
      "(400, 512, 512, 1)\n"
     ]
    }
   ],
   "source": [
    "print(training_images.shape)\n",
    "print(training_labels.shape)\n",
    "from sklearn.model_selection import train_test_split\n",
    "#split the data into training and testing\n",
    "x_train, x_test, y_train, y_test = train_test_split(training_images, training_labels, train_size=0.8, random_state=42)\n",
    "\n",
    "print(x_train.shape)\n",
    "print(x_test.shape)"
   ]
  },
  {
   "cell_type": "code",
   "execution_count": 6,
   "id": "retired-deputy",
   "metadata": {
    "execution": {
     "iopub.execute_input": "2021-05-02T11:11:12.441587Z",
     "iopub.status.busy": "2021-05-02T11:11:12.437697Z",
     "iopub.status.idle": "2021-05-02T11:11:12.444675Z",
     "shell.execute_reply": "2021-05-02T11:11:12.445062Z"
    },
    "papermill": {
     "duration": 0.020485,
     "end_time": "2021-05-02T11:11:12.445185",
     "exception": false,
     "start_time": "2021-05-02T11:11:12.424700",
     "status": "completed"
    },
    "tags": []
   },
   "outputs": [
    {
     "data": {
      "text/plain": [
       "(2000,)"
      ]
     },
     "execution_count": 6,
     "metadata": {},
     "output_type": "execute_result"
    }
   ],
   "source": [
    "training_labels[np.where(training_labels==0)].shape"
   ]
  },
  {
   "cell_type": "code",
   "execution_count": 7,
   "id": "bridal-flavor",
   "metadata": {
    "execution": {
     "iopub.execute_input": "2021-05-02T11:11:12.477126Z",
     "iopub.status.busy": "2021-05-02T11:11:12.476311Z",
     "iopub.status.idle": "2021-05-02T11:11:12.510628Z",
     "shell.execute_reply": "2021-05-02T11:11:12.510166Z"
    },
    "papermill": {
     "duration": 0.055835,
     "end_time": "2021-05-02T11:11:12.510753",
     "exception": false,
     "start_time": "2021-05-02T11:11:12.454918",
     "status": "completed"
    },
    "tags": []
   },
   "outputs": [
    {
     "ename": "NameError",
     "evalue": "name 'ResNet100' is not defined",
     "output_type": "error",
     "traceback": [
      "\u001b[0;31m---------------------------------------------------------------------------\u001b[0m",
      "\u001b[0;31mNameError\u001b[0m                                 Traceback (most recent call last)",
      "\u001b[0;32m<ipython-input-7-9002d9ded604>\u001b[0m in \u001b[0;36m<module>\u001b[0;34m\u001b[0m\n\u001b[1;32m      3\u001b[0m \u001b[0;31m#The input shape follows the shape of the images\u001b[0m\u001b[0;34m\u001b[0m\u001b[0;34m\u001b[0m\u001b[0;34m\u001b[0m\u001b[0m\n\u001b[1;32m      4\u001b[0m \u001b[0;31m#Sigmoid, because our classes range from 0 and 1 and it's recommended for binary categorization\u001b[0m\u001b[0;34m\u001b[0m\u001b[0;34m\u001b[0m\u001b[0;34m\u001b[0m\u001b[0m\n\u001b[0;32m----> 5\u001b[0;31m \u001b[0mmodel\u001b[0m \u001b[0;34m=\u001b[0m \u001b[0mResNet100\u001b[0m\u001b[0;34m(\u001b[0m\u001b[0mclasses\u001b[0m\u001b[0;34m=\u001b[0m\u001b[0;36m1\u001b[0m\u001b[0;34m,\u001b[0m \u001b[0mweights\u001b[0m\u001b[0;34m=\u001b[0m\u001b[0;32mNone\u001b[0m\u001b[0;34m,\u001b[0m \u001b[0minput_shape\u001b[0m\u001b[0;34m=\u001b[0m\u001b[0;34m(\u001b[0m\u001b[0;36m512\u001b[0m\u001b[0;34m,\u001b[0m\u001b[0;36m512\u001b[0m\u001b[0;34m,\u001b[0m\u001b[0;36m1\u001b[0m\u001b[0;34m)\u001b[0m\u001b[0;34m,\u001b[0m \u001b[0mclassifier_activation\u001b[0m\u001b[0;34m=\u001b[0m\u001b[0;34m'sigmoid'\u001b[0m\u001b[0;34m)\u001b[0m\u001b[0;34m\u001b[0m\u001b[0;34m\u001b[0m\u001b[0m\n\u001b[0m\u001b[1;32m      6\u001b[0m \u001b[0;34m\u001b[0m\u001b[0m\n\u001b[1;32m      7\u001b[0m \u001b[0;31m#Binary crossentropy because our classes range from 0 and 1\u001b[0m\u001b[0;34m\u001b[0m\u001b[0;34m\u001b[0m\u001b[0;34m\u001b[0m\u001b[0m\n",
      "\u001b[0;31mNameError\u001b[0m: name 'ResNet100' is not defined"
     ]
    }
   ],
   "source": [
    "#The resnet model. For some reason the amount of classes in our database is 1\n",
    "#No weights, because imagenet is not useful for our purpose and i'm not aware of other weights we can use\n",
    "#The input shape follows the shape of the images\n",
    "#Sigmoid, because our classes range from 0 and 1 and it's recommended for binary categorization\n",
    "model = ResNet100(classes=1, weights=None, input_shape=(512,512,1), classifier_activation='sigmoid')\n",
    "\n",
    "#Binary crossentropy because our classes range from 0 and 1\n",
    "model.compile(loss='binary_crossentropy', optimizer='adam', metrics=['accuracy'])"
   ]
  },
  {
   "cell_type": "code",
   "execution_count": 8,
   "id": "careful-parcel",
   "metadata": {
    "execution": {
     "iopub.execute_input": "2021-05-02T11:11:12.548450Z",
     "iopub.status.busy": "2021-05-02T11:11:12.547636Z",
     "iopub.status.idle": "2021-05-02T11:11:12.554377Z",
     "shell.execute_reply": "2021-05-02T11:11:12.553852Z"
    },
    "papermill": {
     "duration": 0.033367,
     "end_time": "2021-05-02T11:11:12.554517",
     "exception": false,
     "start_time": "2021-05-02T11:11:12.521150",
     "status": "completed"
    },
    "tags": []
   },
   "outputs": [
    {
     "ename": "NameError",
     "evalue": "name 'model' is not defined",
     "output_type": "error",
     "traceback": [
      "\u001b[0;31m---------------------------------------------------------------------------\u001b[0m",
      "\u001b[0;31mNameError\u001b[0m                                 Traceback (most recent call last)",
      "\u001b[0;32m<ipython-input-8-bf4fce6e2a8e>\u001b[0m in \u001b[0;36m<module>\u001b[0;34m\u001b[0m\n\u001b[1;32m      1\u001b[0m \u001b[0;31m#batch_size of 8 for no particular reason. Batch size of 16 caused an error, internet said it's because batch size is too big\u001b[0m\u001b[0;34m\u001b[0m\u001b[0;34m\u001b[0m\u001b[0;34m\u001b[0m\u001b[0m\n\u001b[1;32m      2\u001b[0m \u001b[0;31m#10 epochs, because the model is very deep and takes a very long time to train\u001b[0m\u001b[0;34m\u001b[0m\u001b[0;34m\u001b[0m\u001b[0;34m\u001b[0m\u001b[0m\n\u001b[0;32m----> 3\u001b[0;31m \u001b[0mmodel\u001b[0m\u001b[0;34m.\u001b[0m\u001b[0mfit\u001b[0m\u001b[0;34m(\u001b[0m\u001b[0mx_train\u001b[0m\u001b[0;34m,\u001b[0m\u001b[0my_train\u001b[0m\u001b[0;34m,\u001b[0m \u001b[0mbatch_size\u001b[0m\u001b[0;34m=\u001b[0m\u001b[0;36m8\u001b[0m\u001b[0;34m,\u001b[0m \u001b[0mepochs\u001b[0m\u001b[0;34m=\u001b[0m\u001b[0;36m10\u001b[0m\u001b[0;34m,\u001b[0m \u001b[0mvalidation_data\u001b[0m\u001b[0;34m=\u001b[0m\u001b[0;34m(\u001b[0m\u001b[0mx_test\u001b[0m\u001b[0;34m,\u001b[0m\u001b[0my_test\u001b[0m\u001b[0;34m)\u001b[0m\u001b[0;34m)\u001b[0m\u001b[0;34m\u001b[0m\u001b[0;34m\u001b[0m\u001b[0m\n\u001b[0m",
      "\u001b[0;31mNameError\u001b[0m: name 'model' is not defined"
     ]
    }
   ],
   "source": [
    "#batch_size of 8 for no particular reason. Batch size of 16 caused an error, internet said it's because batch size is too big\n",
    "#10 epochs, because the model is very deep and takes a very long time to train\n",
    "model.fit(x_train,y_train, batch_size=8, epochs=10, validation_data=(x_test,y_test))"
   ]
  },
  {
   "cell_type": "code",
   "execution_count": 9,
   "id": "center-internet",
   "metadata": {
    "execution": {
     "iopub.execute_input": "2021-05-02T11:11:12.594269Z",
     "iopub.status.busy": "2021-05-02T11:11:12.593440Z",
     "iopub.status.idle": "2021-05-02T11:11:12.612066Z",
     "shell.execute_reply": "2021-05-02T11:11:12.611656Z"
    },
    "papermill": {
     "duration": 0.047453,
     "end_time": "2021-05-02T11:11:12.612181",
     "exception": false,
     "start_time": "2021-05-02T11:11:12.564728",
     "status": "completed"
    },
    "tags": []
   },
   "outputs": [
    {
     "ename": "NameError",
     "evalue": "name 'io' is not defined",
     "output_type": "error",
     "traceback": [
      "\u001b[0;31m---------------------------------------------------------------------------\u001b[0m",
      "\u001b[0;31mNameError\u001b[0m                                 Traceback (most recent call last)",
      "\u001b[0;32m<ipython-input-9-1918dfa89776>\u001b[0m in \u001b[0;36m<module>\u001b[0;34m\u001b[0m\n\u001b[1;32m      3\u001b[0m \u001b[0mtraining_images\u001b[0m \u001b[0;34m=\u001b[0m \u001b[0mnp\u001b[0m\u001b[0;34m.\u001b[0m\u001b[0mzeros\u001b[0m\u001b[0;34m(\u001b[0m\u001b[0;34m(\u001b[0m\u001b[0mdata_size\u001b[0m\u001b[0;34m,\u001b[0m\u001b[0;36m512\u001b[0m\u001b[0;34m,\u001b[0m\u001b[0;36m512\u001b[0m\u001b[0;34m,\u001b[0m\u001b[0;36m1\u001b[0m\u001b[0;34m)\u001b[0m\u001b[0;34m)\u001b[0m\u001b[0;34m\u001b[0m\u001b[0;34m\u001b[0m\u001b[0m\n\u001b[1;32m      4\u001b[0m \u001b[0;32mfor\u001b[0m \u001b[0mindex\u001b[0m\u001b[0;34m,\u001b[0m \u001b[0mimageName\u001b[0m \u001b[0;32min\u001b[0m \u001b[0menumerate\u001b[0m\u001b[0;34m(\u001b[0m\u001b[0mtraining_image_names\u001b[0m\u001b[0;34m[\u001b[0m\u001b[0;36m0\u001b[0m\u001b[0;34m:\u001b[0m\u001b[0mdata_size\u001b[0m\u001b[0;34m]\u001b[0m\u001b[0;34m)\u001b[0m\u001b[0;34m:\u001b[0m\u001b[0;34m\u001b[0m\u001b[0;34m\u001b[0m\u001b[0m\n\u001b[0;32m----> 5\u001b[0;31m     \u001b[0mimage\u001b[0m \u001b[0;34m=\u001b[0m \u001b[0mio\u001b[0m\u001b[0;34m.\u001b[0m\u001b[0mimread\u001b[0m\u001b[0;34m(\u001b[0m\u001b[0mtrainingPath\u001b[0m\u001b[0;34m+\u001b[0m\u001b[0mimageName\u001b[0m\u001b[0;34m)\u001b[0m\u001b[0;34m\u001b[0m\u001b[0;34m\u001b[0m\u001b[0m\n\u001b[0m\u001b[1;32m      6\u001b[0m     \u001b[0mimage\u001b[0m \u001b[0;34m=\u001b[0m \u001b[0mresize\u001b[0m\u001b[0;34m(\u001b[0m\u001b[0mimage\u001b[0m\u001b[0;34m,\u001b[0m \u001b[0;34m(\u001b[0m\u001b[0;36m512\u001b[0m\u001b[0;34m,\u001b[0m \u001b[0;36m512\u001b[0m\u001b[0;34m)\u001b[0m\u001b[0;34m)\u001b[0m\u001b[0;34m\u001b[0m\u001b[0;34m\u001b[0m\u001b[0m\n\u001b[1;32m      7\u001b[0m     \u001b[0mimage\u001b[0m \u001b[0;34m=\u001b[0m \u001b[0mrgb2gray\u001b[0m\u001b[0;34m(\u001b[0m\u001b[0mimage\u001b[0m\u001b[0;34m)\u001b[0m\u001b[0;34m\u001b[0m\u001b[0;34m\u001b[0m\u001b[0m\n",
      "\u001b[0;31mNameError\u001b[0m: name 'io' is not defined"
     ]
    }
   ],
   "source": [
    "#Use this to load all of the images\n",
    "data_size = 100\n",
    "training_images = np.zeros((data_size,512,512,1))\n",
    "for index, imageName in enumerate(training_image_names[0:data_size]):\n",
    "    image = io.imread(trainingPath+imageName)\n",
    "    image = resize(image, (512, 512))\n",
    "    image = rgb2gray(image)\n",
    "    image /= 255\n",
    "    image = np.reshape(image, (512,512,1))\n",
    "    training_images[index] = image\n",
    "    if(index % (data_size//4) == 0):\n",
    "        print(index, imageName, \"inserted\")\n",
    "\n",
    "        \n",
    "training_labels = pd.read_csv('../input/siim-isic-melanoma-classification/train.csv', sep=',')\n",
    "# 0 = benign, 1 = malignant\n",
    "training_labels = np.asarray(training_labels['target'])\n"
   ]
  },
  {
   "cell_type": "code",
   "execution_count": null,
   "id": "cleared-hydrogen",
   "metadata": {
    "papermill": {
     "duration": 0.010393,
     "end_time": "2021-05-02T11:11:12.633600",
     "exception": false,
     "start_time": "2021-05-02T11:11:12.623207",
     "status": "completed"
    },
    "tags": []
   },
   "outputs": [],
   "source": []
  }
 ],
 "metadata": {
  "kernelspec": {
   "display_name": "Python 3",
   "language": "python",
   "name": "python3"
  },
  "language_info": {
   "codemirror_mode": {
    "name": "ipython",
    "version": 3
   },
   "file_extension": ".py",
   "mimetype": "text/x-python",
   "name": "python",
   "nbconvert_exporter": "python",
   "pygments_lexer": "ipython3",
   "version": "3.7.9"
  },
  "papermill": {
   "default_parameters": {},
   "duration": 15.929709,
   "end_time": "2021-05-02T11:11:13.756724",
   "environment_variables": {},
   "exception": null,
   "input_path": "__notebook__.ipynb",
   "output_path": "__notebook__.ipynb",
   "parameters": {},
   "start_time": "2021-05-02T11:10:57.827015",
   "version": "2.3.2"
  }
 },
 "nbformat": 4,
 "nbformat_minor": 5
}
